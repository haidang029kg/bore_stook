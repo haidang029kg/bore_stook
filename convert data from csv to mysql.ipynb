{
 "cells": [
  {
   "cell_type": "code",
   "execution_count": 1,
   "metadata": {
    "scrolled": true
   },
   "outputs": [],
   "source": [
    "import pandas as pd\n",
    "import sqlalchemy\n",
    "import os\n",
    "import random\n",
    "\n",
    "URI = 'mysql+mysqlconnector://' + os.environ.get('MYSQL_USER') + ':' + os.environ.get('MYSQL_PASSWORD') + '@localhost/' + os.environ.get('MYSQL_DB')\n",
    "connection = sqlalchemy.create_engine(URI)\n",
    "\n",
    "df = pd.read_csv('~/Downloads/goodbooks-10k/books.csv')\n",
    "df = df[['book_id', 'original_title', 'isbn','authors', 'original_publication_year','image_url', 'average_rating', 'books_count']]\n",
    "df.sort_values(inplace=True, by = ['book_id'])"
   ]
  },
  {
   "cell_type": "code",
   "execution_count": 2,
   "metadata": {},
   "outputs": [],
   "source": [
    "#Clean database\n",
    "from Book_Flask import db\n",
    "db.session.execute(\"SET FOREIGN_KEY_CHECKS = 0\")\n",
    "db.drop_all()\n",
    "db.session.execute(\"SET FOREIGN_KEY_CHECKS = 1\")\n",
    "db.create_all()"
   ]
  },
  {
   "cell_type": "code",
   "execution_count": 3,
   "metadata": {},
   "outputs": [],
   "source": [
    "data = [{'GenreID': 1, 'Name': 'Science fiction'},\n",
    "       {'GenreID': 2, 'Name': 'Satire'},\n",
    "       {'GenreID': 3, 'Name': 'Drama'},\n",
    "       {'GenreID': 4, 'Name': 'Romance'},\n",
    "       {'GenreID': 5, 'Name': 'Mystery'},\n",
    "       {'GenreID': 6, 'Name': 'Horror'},\n",
    "       {'GenreID': 7, 'Name': 'Self help'},\n",
    "       {'GenreID': 8, 'Name': 'Health'},\n",
    "       {'GenreID': 9, 'Name': 'Guide'},\n",
    "       {'GenreID': 10, 'Name': 'Travel'},\n",
    "       {'GenreID': 11, 'Name': 'Religion, Spirituality & New Age'},\n",
    "       {'GenreID': 12, 'Name': 'Science'},\n",
    "       {'GenreID': 13, 'Name': 'History'},\n",
    "       {'GenreID': 14, 'Name': 'Math'},\n",
    "       {'GenreID': 15, 'Name': 'Anthology'},\n",
    "       {'GenreID': 16, 'Name': 'Poetry'},\n",
    "       {'GenreID': 17, 'Name': 'Encyclopedias'},\n",
    "       {'GenreID': 18, 'Name': 'Dictionaries'},\n",
    "       {'GenreID': 19, 'Name': 'Comics'},\n",
    "       {'GenreID': 20, 'Name': 'Cookbooks'},\n",
    "       {'GenreID': 21, 'Name': 'Diaries'},\n",
    "       {'GenreID': 22, 'Name': 'Journals'},\n",
    "       {'GenreID': 23, 'Name': 'Prayer books'},\n",
    "       {'GenreID': 24, 'Name': 'Series'},\n",
    "       {'GenreID': 25, 'Name': 'Trilogy'},\n",
    "       {'GenreID': 26, 'Name': 'Biographies'},\n",
    "       {'GenreID': 27, 'Name': 'Autobiographies'},\n",
    "       {'GenreID': 28, 'Name': 'Fantasy'},\n",
    "       {'GenreID': 29, 'Name': 'Others'}]"
   ]
  },
  {
   "cell_type": "code",
   "execution_count": 4,
   "metadata": {},
   "outputs": [],
   "source": [
    "data_genres = pd.DataFrame(data)"
   ]
  },
  {
   "cell_type": "code",
   "execution_count": 5,
   "metadata": {},
   "outputs": [],
   "source": [
    "authors_name = []\n",
    "\n",
    "for i in range(len(df['book_id']) - 1):\n",
    "    for x in (df.iloc[i]['authors']).split(','):\n",
    "        temp = x.strip()\n",
    "        if temp not in authors_name:\n",
    "            authors_name.append(temp)\n",
    "\n",
    "authors_id = []\n",
    "for i in range(len(authors_name)):\n",
    "    authors_id.append(i+1)"
   ]
  },
  {
   "cell_type": "code",
   "execution_count": 6,
   "metadata": {},
   "outputs": [],
   "source": [
    "data_authors = pd.DataFrame({'AuthorID': authors_id, 'Name': authors_name})"
   ]
  },
  {
   "cell_type": "code",
   "execution_count": 7,
   "metadata": {},
   "outputs": [
    {
     "data": {
      "text/plain": [
       "'J.K. Rowling'"
      ]
     },
     "execution_count": 7,
     "metadata": {},
     "output_type": "execute_result"
    }
   ],
   "source": [
    "a = data_authors[data_authors['Name'] == 'J.K. Rowling'].values[0].tolist()\n",
    "a[1]"
   ]
  },
  {
   "cell_type": "code",
   "execution_count": 8,
   "metadata": {},
   "outputs": [],
   "source": [
    "def get_id_of_author(s):\n",
    "    temp = data_authors[data_authors['Name'] == s].values[0].tolist()\n",
    "    return temp[0]"
   ]
  },
  {
   "cell_type": "code",
   "execution_count": 9,
   "metadata": {},
   "outputs": [
    {
     "data": {
      "text/plain": [
       "20"
      ]
     },
     "execution_count": 9,
     "metadata": {},
     "output_type": "execute_result"
    }
   ],
   "source": [
    "get_id_of_author('Frank Herbert')"
   ]
  },
  {
   "cell_type": "code",
   "execution_count": 10,
   "metadata": {},
   "outputs": [],
   "source": [
    "def replace_author(s):\n",
    "    authors_id = ''\n",
    "    for word in s.split(','):\n",
    "        stripped_word = word.strip()\n",
    "        if stripped_word in authors_name:\n",
    "            if authors_id != '':\n",
    "                authors_id += (',' + str(get_id_of_author(stripped_word)))\n",
    "            else:\n",
    "                authors_id += str(get_id_of_author(stripped_word))\n",
    "    return authors_id"
   ]
  },
  {
   "cell_type": "code",
   "execution_count": 11,
   "metadata": {},
   "outputs": [
    {
     "data": {
      "text/plain": [
       "'15,16,15,17,18,19'"
      ]
     },
     "execution_count": 11,
     "metadata": {},
     "output_type": "execute_result"
    }
   ],
   "source": [
    "replace_author('Heidi Murkoff, Sharon Mazel, Heidi Murkoff, Arlene Eisenberg, Sandee Hathaway, Mark D. Widome')"
   ]
  },
  {
   "cell_type": "code",
   "execution_count": 12,
   "metadata": {},
   "outputs": [],
   "source": [
    "temp = []\n",
    "for x in range(len(df['book_id'])):\n",
    "    temp.append(df.iloc[x]['authors'])"
   ]
  },
  {
   "cell_type": "code",
   "execution_count": 13,
   "metadata": {},
   "outputs": [],
   "source": [
    "own = []\n",
    "for i in temp:\n",
    "    own.append(replace_author(i))"
   ]
  },
  {
   "cell_type": "code",
   "execution_count": 14,
   "metadata": {},
   "outputs": [],
   "source": [
    "df['authors'] = own"
   ]
  },
  {
   "cell_type": "code",
   "execution_count": 15,
   "metadata": {},
   "outputs": [],
   "source": [
    "random_genre = []\n",
    "random_price = []\n",
    "for i in range(len(df['book_id'])):\n",
    "    random_genre.append(random.randint(1, len(data)))\n",
    "\n",
    "for i in range(len(df['book_id'])):\n",
    "    temp_price = round(random.uniform(1.00, 10.00), 2)\n",
    "    random_price.append(temp_price)"
   ]
  },
  {
   "cell_type": "code",
   "execution_count": 16,
   "metadata": {},
   "outputs": [],
   "source": [
    "df['GenreID'] = random_genre\n",
    "df['Price'] = random_price"
   ]
  },
  {
   "cell_type": "code",
   "execution_count": 17,
   "metadata": {},
   "outputs": [],
   "source": [
    "df.rename(columns = {'authors' : 'AuthorsID',\n",
    "                     'book_id' : 'BookID',\n",
    "                     'original_title' : 'Title',\n",
    "                     'isbn' : 'ISBN',\n",
    "                     'original_publication_year' : 'PublicationYear',\n",
    "                     'image_url' : 'ImgUrl',\n",
    "                     'average_rating': 'AvgRating',\n",
    "                     'books_count' : 'Quantity'}, inplace = True)"
   ]
  },
  {
   "cell_type": "code",
   "execution_count": 18,
   "metadata": {},
   "outputs": [],
   "source": [
    "df = df[['BookID', 'Title', 'ISBN', 'AuthorsID', 'PublicationYear', 'ImgUrl', 'Price', 'AvgRating', 'Quantity', 'GenreID']]"
   ]
  },
  {
   "cell_type": "code",
   "execution_count": 19,
   "metadata": {},
   "outputs": [],
   "source": [
    "#delete book with no image\n",
    "df = df[df.ImgUrl != 'https://s.gr-assets.com/assets/nophoto/book/111x148-bcc042a9c91a29c1d680899eff700a03.png']\n",
    "#delete book with no title\n",
    "df = df[df.Title != ' ']"
   ]
  },
  {
   "cell_type": "code",
   "execution_count": 20,
   "metadata": {},
   "outputs": [],
   "source": [
    "data_authors.set_index('AuthorID', inplace = True)\n",
    "\n",
    "data_authors.to_sql(con = connection, name = 'author', if_exists = 'append')"
   ]
  },
  {
   "cell_type": "code",
   "execution_count": 21,
   "metadata": {},
   "outputs": [],
   "source": [
    "data_genres.set_index('GenreID', inplace = True)\n",
    "\n",
    "data_genres.to_sql(con = connection, name = 'genre', if_exists='append')"
   ]
  },
  {
   "cell_type": "code",
   "execution_count": 22,
   "metadata": {},
   "outputs": [],
   "source": [
    "BookID = df['BookID'].values.tolist()\n",
    "Title = df['Title'].values.tolist()\n",
    "ISBN = df['ISBN'].values.tolist()\n",
    "AuthorsID = df['AuthorsID'].values.tolist()\n",
    "PublicationYear = df['PublicationYear'].values.tolist()\n",
    "ImgUrl = df['ImgUrl'].values.tolist()\n",
    "Price = df['Price'].values.tolist()\n",
    "AvgRating = df['AvgRating'].values.tolist()\n",
    "Quantity = df['Quantity'].values.tolist()\n",
    "GenreID = df['GenreID'].values.tolist()"
   ]
  },
  {
   "cell_type": "code",
   "execution_count": 23,
   "metadata": {},
   "outputs": [],
   "source": [
    "book = pd.DataFrame({'BookID':BookID})\n",
    "book['Title'] = Title\n",
    "book['ISBN'] = ISBN\n",
    "book['AuthorsID'] = AuthorsID\n",
    "book['PublicationYear'] = PublicationYear\n",
    "book['ImgUrl'] = ImgUrl\n",
    "book['Price'] = Price\n",
    "book['AvgRating'] = AvgRating\n",
    "book['Quantity'] = Quantity\n",
    "book['GenreID'] = GenreID"
   ]
  },
  {
   "cell_type": "code",
   "execution_count": 24,
   "metadata": {},
   "outputs": [],
   "source": [
    "book['Title'].fillna('Unkown', inplace = True)"
   ]
  },
  {
   "cell_type": "code",
   "execution_count": 25,
   "metadata": {},
   "outputs": [],
   "source": [
    "book.set_index('BookID', inplace = True)"
   ]
  },
  {
   "cell_type": "code",
   "execution_count": 26,
   "metadata": {},
   "outputs": [],
   "source": [
    "book.to_sql(con = connection, name = 'book', if_exists='append')"
   ]
  },
  {
   "cell_type": "code",
   "execution_count": 27,
   "metadata": {},
   "outputs": [],
   "source": [
    "data_IsPaid = [{'IsPaidID' : 1, 'NamePaid' : 'No'},\n",
    "              {'IsPaidID' : 2, 'NamePaid' : 'Yes'}]\n",
    "data_IsPaid = pd.DataFrame(data_IsPaid)\n",
    "data_IsPaid.set_index('IsPaidID', inplace = True)\n",
    "data_IsPaid.to_sql(con = connection, name = 'ispaid', if_exists='append')\n",
    "\n",
    "data_Status = [{'StatusID' : 1, 'NameStatus' : 'Waiting'},\n",
    "              {'StatusID' : 2, 'NameStatus' : 'Packaging'},\n",
    "              {'StatusID' : 3, 'NameStatus' : 'Delivering'},\n",
    "              {'StatusID' : 4, 'NameStatus' : 'Delivered'},\n",
    "              {'StatusID' : 5, 'NameStatus' : 'Rejected'}]\n",
    "data_Status = pd.DataFrame(data_Status)\n",
    "data_Status.set_index('StatusID', inplace = True)\n",
    "data_Status.to_sql(con = connection, name = 'status', if_exists='append')\n",
    "\n",
    "data_PaymentMethod = [{'PaymentMethodID' : 1, 'NamePayment' : 'Credit Card'},\n",
    "                     {'PaymentMethodID' : 2, 'NamePayment' : 'Cash'},\n",
    "                     {'PaymentMethodID' : 3, 'NamePayment' : 'Bank Transfer'},\n",
    "                     {'PaymentMethodID' : 4, 'NamePayment' : 'Code'}]\n",
    "data_PaymentMethod = pd.DataFrame(data_PaymentMethod)\n",
    "data_PaymentMethod.set_index('PaymentMethodID', inplace = True)\n",
    "data_PaymentMethod.to_sql(con = connection, name = 'paymentmethod', if_exists='append')"
   ]
  },
  {
   "cell_type": "code",
   "execution_count": 28,
   "metadata": {},
   "outputs": [
    {
     "data": {
      "text/plain": [
       "'$2b$12$i5.u/chNk7Nsrpwqm6UmauOL1eUVwuDzzdX5ceHWiKE8O3rqhtYze'"
      ]
     },
     "execution_count": 28,
     "metadata": {},
     "output_type": "execute_result"
    }
   ],
   "source": [
    "from Book_Flask import bcrypt\n",
    "hashed_passwowrd_admin = bcrypt.generate_password_hash('admin').decode('utf-8')\n",
    "hashed_passwowrd_admin"
   ]
  },
  {
   "cell_type": "code",
   "execution_count": 29,
   "metadata": {},
   "outputs": [],
   "source": [
    "string = \"insert into user (FirstName, LastName, Phone, Email, ImgUrl, Password, RoleAdmin) values ('Dang', 'Vu', '0364292129', 'vnhd1995@gmail.com', 'default.jpg', '$2b$12$TFSOyCw1scepsmVighyUyOHFdgOqwv5/E7fyCNxAuNF0wwnQLPOSe', True);\"\n",
    "db.session.execute(string)\n",
    "db.session.commit()"
   ]
  }
 ],
 "metadata": {
  "kernelspec": {
   "display_name": "Python 3",
   "language": "python",
   "name": "python3"
  },
  "language_info": {
   "codemirror_mode": {
    "name": "ipython",
    "version": 3
   },
   "file_extension": ".py",
   "mimetype": "text/x-python",
   "name": "python",
   "nbconvert_exporter": "python",
   "pygments_lexer": "ipython3",
   "version": "3.6.7"
  }
 },
 "nbformat": 4,
 "nbformat_minor": 2
}
