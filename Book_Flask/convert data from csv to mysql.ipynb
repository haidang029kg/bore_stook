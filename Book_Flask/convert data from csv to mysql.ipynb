{
 "cells": [
  {
   "cell_type": "code",
   "execution_count": 94,
   "metadata": {},
   "outputs": [],
   "source": [
    "import pandas as pd\n",
    "import sqlalchemy\n",
    "import os\n",
    "import random\n",
    "\n",
    "URI = 'mysql+mysqlconnector://' + os.environ.get('MYSQL_USER') + ':' + os.environ.get('MYSQL_PASSWORD') + '@localhost/' + os.environ.get('MYSQL_DB')\n",
    "connection = sqlalchemy.create_engine(URI)\n",
    "\n",
    "df = pd.read_csv('books.csv')\n",
    "df = df[['book_id', 'original_title', 'isbn','authors', 'original_publication_year','image_url', 'average_rating', 'books_count']]\n",
    "df.sort_values(inplace=True, by = ['book_id'])"
   ]
  },
  {
   "cell_type": "code",
   "execution_count": 95,
   "metadata": {},
   "outputs": [],
   "source": [
    "data = [{'GenreID': 1, 'Name': 'Science fiction'},\n",
    "       {'GenreID': 2, 'Name': 'Satire'},\n",
    "       {'GenreID': 3, 'Name': 'Drama'},\n",
    "       {'GenreID': 4, 'Name': 'Romance'},\n",
    "       {'GenreID': 5, 'Name': 'Mystery'},\n",
    "       {'GenreID': 6, 'Name': 'Horror'},\n",
    "       {'GenreID': 7, 'Name': 'Self help'},\n",
    "       {'GenreID': 8, 'Name': 'Health'},\n",
    "       {'GenreID': 9, 'Name': 'Guide'},\n",
    "       {'GenreID': 10, 'Name': 'Travel'},\n",
    "       {'GenreID': 11, 'Name': 'Religion, Spirituality & New Age'},\n",
    "       {'GenreID': 12, 'Name': 'Science'},\n",
    "       {'GenreID': 13, 'Name': 'History'},\n",
    "       {'GenreID': 14, 'Name': 'Math'},\n",
    "       {'GenreID': 15, 'Name': 'Anthology'},\n",
    "       {'GenreID': 16, 'Name': 'Poetry'},\n",
    "       {'GenreID': 17, 'Name': 'Encyclopedias'},\n",
    "       {'GenreID': 18, 'Name': 'Dictionaries'},\n",
    "       {'GenreID': 19, 'Name': 'Comics'},\n",
    "       {'GenreID': 20, 'Name': 'Cookbooks'},\n",
    "       {'GenreID': 21, 'Name': 'Diaries'},\n",
    "       {'GenreID': 22, 'Name': 'Journals'},\n",
    "       {'GenreID': 23, 'Name': 'Prayer books'},\n",
    "       {'GenreID': 24, 'Name': 'Series'},\n",
    "       {'GenreID': 25, 'Name': 'Trilogy'},\n",
    "       {'GenreID': 26, 'Name': 'Biographies'},\n",
    "       {'GenreID': 27, 'Name': 'Autobiographies'},\n",
    "       {'GenreID': 28, 'Name': 'Fantasy'},\n",
    "       {'GenreID': 29, 'Name': 'Others'}]"
   ]
  },
  {
   "cell_type": "code",
   "execution_count": 96,
   "metadata": {},
   "outputs": [],
   "source": [
    "data_genres = pd.DataFrame(data)"
   ]
  },
  {
   "cell_type": "code",
   "execution_count": 97,
   "metadata": {},
   "outputs": [],
   "source": [
    "authors_name = []\n",
    "\n",
    "for i in range(len(df['book_id']) - 1):\n",
    "    for x in (df.iloc[i]['authors']).split(','):\n",
    "        temp = x.strip()\n",
    "        if temp not in authors_name:\n",
    "            authors_name.append(temp)\n",
    "\n",
    "authors_id = []\n",
    "for i in range(len(authors_name)):\n",
    "    authors_id.append(i+1)"
   ]
  },
  {
   "cell_type": "code",
   "execution_count": 98,
   "metadata": {},
   "outputs": [],
   "source": [
    "data_authors = pd.DataFrame({'AuthorID': authors_id, 'Name': authors_name})"
   ]
  },
  {
   "cell_type": "code",
   "execution_count": 99,
   "metadata": {},
   "outputs": [
    {
     "data": {
      "text/plain": [
       "'J.K. Rowling'"
      ]
     },
     "execution_count": 99,
     "metadata": {},
     "output_type": "execute_result"
    }
   ],
   "source": [
    "a = data_authors[data_authors['Name'] == 'J.K. Rowling'].values[0].tolist()\n",
    "a[1]"
   ]
  },
  {
   "cell_type": "code",
   "execution_count": 100,
   "metadata": {},
   "outputs": [],
   "source": [
    "def get_id_of_author(s):\n",
    "    temp = data_authors[data_authors['Name'] == s].values[0].tolist()\n",
    "    return temp[0]"
   ]
  },
  {
   "cell_type": "code",
   "execution_count": 101,
   "metadata": {},
   "outputs": [],
   "source": [
    "def replace_author(s):\n",
    "    authors_id = ''\n",
    "    for word in s.split(','):\n",
    "        stripped_word = word.strip()\n",
    "        if stripped_word in authors_name:\n",
    "            if authors_id != '':\n",
    "                authors_id += ', ' + str(get_id_of_author(stripped_word))\n",
    "            authors_id += str(get_id_of_author(stripped_word))\n",
    "    return authors_id       "
   ]
  },
  {
   "cell_type": "code",
   "execution_count": 102,
   "metadata": {},
   "outputs": [
    {
     "data": {
      "text/plain": [
       "'1, 22, 33'"
      ]
     },
     "execution_count": 102,
     "metadata": {},
     "output_type": "execute_result"
    }
   ],
   "source": [
    "replace_author('J.K. Rowling, Mary GrandPré, Rufus Beck')"
   ]
  },
  {
   "cell_type": "code",
   "execution_count": 103,
   "metadata": {},
   "outputs": [],
   "source": [
    "temp = []\n",
    "for x in range(len(df['book_id'])):\n",
    "    temp.append(df.iloc[x]['authors'])"
   ]
  },
  {
   "cell_type": "code",
   "execution_count": 104,
   "metadata": {},
   "outputs": [],
   "source": [
    "own = []\n",
    "for i in temp:\n",
    "    own.append(replace_author(i))"
   ]
  },
  {
   "cell_type": "code",
   "execution_count": 105,
   "metadata": {},
   "outputs": [],
   "source": [
    "df['authors'] = own"
   ]
  },
  {
   "cell_type": "code",
   "execution_count": 106,
   "metadata": {},
   "outputs": [],
   "source": [
    "random_genre = []\n",
    "random_price = []\n",
    "for i in range(len(df['book_id'])):\n",
    "    random_genre.append(random.randint(1, len(data)))\n",
    "\n",
    "for i in range(len(df['book_id'])):\n",
    "    random_price.append(random.randint(5, 500))"
   ]
  },
  {
   "cell_type": "code",
   "execution_count": 107,
   "metadata": {},
   "outputs": [],
   "source": [
    "df['GenreID'] = random_genre\n",
    "df['Price'] = random_price"
   ]
  },
  {
   "cell_type": "code",
   "execution_count": 108,
   "metadata": {},
   "outputs": [],
   "source": [
    "df.rename(columns = {'authors' : 'AuthorsID',\n",
    "                     'book_id' : 'BookID',\n",
    "                     'original_title' : 'Title',\n",
    "                     'isbn' : 'ISBN',\n",
    "                     'original_publication_year' : 'PublicationYear',\n",
    "                     'image_url' : 'ImgUrl',\n",
    "                     'average_rating': 'AvgRating',\n",
    "                     'books_count' : 'Quantity'}, inplace = True)"
   ]
  },
  {
   "cell_type": "code",
   "execution_count": 109,
   "metadata": {},
   "outputs": [],
   "source": [
    "df = df[['BookID', 'Title', 'ISBN', 'AuthorsID', 'PublicationYear', 'ImgUrl', 'Price', 'AvgRating', 'Quantity', 'GenreID']]"
   ]
  },
  {
   "cell_type": "code",
   "execution_count": 110,
   "metadata": {},
   "outputs": [],
   "source": [
    "data_authors.set_index('AuthorID', inplace = True)\n",
    "\n",
    "data_authors.to_sql(con = connection, name = 'author', if_exists = 'append')"
   ]
  },
  {
   "cell_type": "code",
   "execution_count": 111,
   "metadata": {},
   "outputs": [],
   "source": [
    "data_genres.set_index('GenreID', inplace = True)\n",
    "\n",
    "data_genres.to_sql(con = connection, name = 'genre', if_exists='append')"
   ]
  },
  {
   "cell_type": "code",
   "execution_count": 112,
   "metadata": {},
   "outputs": [],
   "source": [
    "BookID = df['BookID'].values.tolist()\n",
    "Title = df['Title'].values.tolist()\n",
    "ISBN = df['ISBN'].values.tolist()\n",
    "AuthorsID = df['AuthorsID'].values.tolist()\n",
    "PublicationYear = df['PublicationYear'].values.tolist()\n",
    "ImgUrl = df['ImgUrl'].values.tolist()\n",
    "Price = df['Price'].values.tolist()\n",
    "AvgRating = df['AvgRating'].values.tolist()\n",
    "Quantity = df['Quantity'].values.tolist()\n",
    "GenreID = df['GenreID'].values.tolist()"
   ]
  },
  {
   "cell_type": "code",
   "execution_count": 113,
   "metadata": {},
   "outputs": [],
   "source": [
    "book = pd.DataFrame({'BookID':BookID})\n",
    "book['Title'] = Title\n",
    "book['ISBN'] = ISBN\n",
    "book['AuthorsID'] = AuthorsID\n",
    "book['PublicationYear'] = PublicationYear\n",
    "book['ImgUrl'] = ImgUrl\n",
    "book['Price'] = Price\n",
    "book['AvgRating'] = AvgRating\n",
    "book['Quantity'] = Quantity\n",
    "book['GenreID'] = GenreID"
   ]
  },
  {
   "cell_type": "code",
   "execution_count": 114,
   "metadata": {},
   "outputs": [],
   "source": [
    "book['Title'].fillna('Unkown', inplace = True)"
   ]
  },
  {
   "cell_type": "code",
   "execution_count": 115,
   "metadata": {},
   "outputs": [],
   "source": [
    "book.set_index('BookID', inplace = True)"
   ]
  },
  {
   "cell_type": "code",
   "execution_count": 116,
   "metadata": {},
   "outputs": [],
   "source": [
    "book.to_sql(con = connection, name = 'book', if_exists='append')"
   ]
  }
 ],
 "metadata": {
  "kernelspec": {
   "display_name": "Python 3",
   "language": "python",
   "name": "python3"
  },
  "language_info": {
   "codemirror_mode": {
    "name": "ipython",
    "version": 3
   },
   "file_extension": ".py",
   "mimetype": "text/x-python",
   "name": "python",
   "nbconvert_exporter": "python",
   "pygments_lexer": "ipython3",
   "version": "3.6.6"
  }
 },
 "nbformat": 4,
 "nbformat_minor": 2
}
