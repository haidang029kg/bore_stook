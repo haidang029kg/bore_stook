{
 "cells": [
  {
   "cell_type": "code",
   "execution_count": 1,
   "metadata": {},
   "outputs": [],
   "source": [
    "from Book_Flask.models import OrderDetails, Rules\n",
    "from Book_Flask import db\n",
    "import os\n",
    "from itertools import chain, combinations\n",
    "from collections import defaultdict\n",
    "from optparse import OptionParser"
   ]
  },
  {
   "cell_type": "code",
   "execution_count": 2,
   "metadata": {},
   "outputs": [],
   "source": [
    "#source https://github.com/asaini/Apriori\n",
    "def subsets(arr):\n",
    "    \"\"\" Returns non empty subsets of arr\"\"\"\n",
    "    return chain(*[combinations(arr, i + 1) for i, a in enumerate(arr)])\n",
    "\n",
    "def returnItemsWithMinSupport(itemSet, transactionList, minSupport, freqSet):\n",
    "        \"\"\"calculates the support for items in the itemSet and returns a subset\n",
    "       of the itemSet each of whose elements satisfies the minimum support\"\"\"\n",
    "        _itemSet = set()\n",
    "        localSet = defaultdict(int)\n",
    "\n",
    "        for item in itemSet:\n",
    "                for transaction in transactionList:\n",
    "                        if item.issubset(transaction):\n",
    "                                freqSet[item] += 1\n",
    "                                localSet[item] += 1\n",
    "\n",
    "        for item, count in localSet.items():\n",
    "                support = float(count)/len(transactionList)\n",
    "                if support >= minSupport:\n",
    "                        _itemSet.add(item)\n",
    "\n",
    "        return _itemSet\n",
    "\n",
    "\n",
    "def joinSet(itemSet, length):\n",
    "        \"\"\"Join a set with itself and returns the n-element itemsets\"\"\"\n",
    "        return set([i.union(j) for i in itemSet for j in itemSet if len(i.union(j)) == length])\n",
    "\n",
    "def runApriori(minSupport, minConfidence):\n",
    "    \"\"\"\n",
    "    run the apriori algorithm. data_iter is a record iterator\n",
    "    Return both:\n",
    "     - items (tuple, support)\n",
    "     - rules ((pretuple, posttuple), confidence)\n",
    "    \"\"\"\n",
    "    itemSet, transactionList = getItemSetTransactionList()\n",
    "    \n",
    "    print (itemSet)\n",
    "    print (transactionList)\n",
    "    \n",
    "    freqSet = defaultdict(int)\n",
    "    largeSet = dict()\n",
    "    # Global dictionary which stores (key=n-itemSets,value=support)\n",
    "    # which satisfy minSupport\n",
    "\n",
    "    assocRules = dict()\n",
    "    # Dictionary which stores Association Rules\n",
    "\n",
    "    oneCSet = returnItemsWithMinSupport(itemSet,\n",
    "                                        transactionList,\n",
    "                                        minSupport,\n",
    "                                        freqSet)\n",
    "\n",
    "    currentLSet = oneCSet\n",
    "    k = 2\n",
    "    while(currentLSet != set([])):\n",
    "        largeSet[k-1] = currentLSet\n",
    "        currentLSet = joinSet(currentLSet, k)\n",
    "        currentCSet = returnItemsWithMinSupport(currentLSet,\n",
    "                                                transactionList,\n",
    "                                                minSupport,\n",
    "                                                freqSet)\n",
    "        currentLSet = currentCSet\n",
    "        k = k + 1\n",
    "\n",
    "    def getSupport(item):\n",
    "            \"\"\"local function which Returns the support of an item\"\"\"\n",
    "            return float(freqSet[item])/len(transactionList)\n",
    "\n",
    "    toRetItems = []\n",
    "    for key, value in largeSet.items():\n",
    "        toRetItems.extend([(tuple(item), getSupport(item))\n",
    "                           for item in value])\n",
    "\n",
    "    toRetRules = []\n",
    "    for key, value in largeSet.items():\n",
    "        for item in value:\n",
    "            _subsets = map(frozenset, [x for x in subsets(item)])\n",
    "            for element in _subsets:\n",
    "                remain = item.difference(element)\n",
    "                if len(remain) > 0:\n",
    "                    confidence = getSupport(item)/getSupport(element)\n",
    "                    if confidence >= minConfidence:\n",
    "                        toRetRules.append(((tuple(element), tuple(remain)),\n",
    "                                           confidence))\n",
    "    return toRetItems, toRetRules\n",
    "\n",
    "\n",
    "def printResults(items, rules):\n",
    "    \"\"\"prints the generated itemsets sorted by support and the confidence rules sorted by confidence\"\"\"\n",
    "    for item, support in items:\n",
    "        print (\"item: %s ; %.3f\" % (str(item), support))\n",
    "    print (\"\\n------------------------ RULES:\")\n",
    "    for rule, confidence in rules:\n",
    "        pre, post = rule\n",
    "        print (\"Rule: %s ==> %s ; %.3f\" % (str(pre), str(post), confidence))\n",
    "\n",
    "def getItemSetTransactionList():\n",
    "    data = db.session.query(OrderDetails.OrderID, OrderDetails.BookID).order_by(OrderDetails.OrderID.asc()).all()\n",
    "    itemSet = set()\n",
    "    tranList = list()\n",
    "    tempArray = []\n",
    "    curOrderID = data[0][0]  # first OrderID\n",
    "    for row in data:\n",
    "        itemSet.add(frozenset([row[1]]))\n",
    "        if (curOrderID != row[0]):\n",
    "            tranList.append(frozenset(tempArray))\n",
    "            tempArray = [row[1]]\n",
    "            curOrderID = row[0]\n",
    "        else:\n",
    "            tempArray.append(row[1])\n",
    "    tranList.append(tempArray)\n",
    "    return itemSet, tranList"
   ]
  },
  {
   "cell_type": "code",
   "execution_count": 4,
   "metadata": {},
   "outputs": [
    {
     "name": "stdout",
     "output_type": "stream",
     "text": [
      "{frozenset({64864}), frozenset({380975}), frozenset({257990}), frozenset({64857}), frozenset({410445}), frozenset({89165}), frozenset({262228}), frozenset({102525})}\n",
      "[frozenset({64864, 257990, 89165, 262228, 64857}), frozenset({64864, 64857, 262228, 380975}), frozenset({64864, 257990, 262228, 64857, 102525}), frozenset({64864, 64857, 89165, 102525}), frozenset({64864, 64857, 262228, 380975}), frozenset({64857, 262228, 410445, 257990}), [64864, 257990, 262228, 380975]]\n"
     ]
    }
   ],
   "source": [
    "minSupport = 0.5\n",
    "minConfidence = 0.5\n",
    "\n",
    "items, rules = runApriori(minSupport, minConfidence)"
   ]
  },
  {
   "cell_type": "code",
   "execution_count": 6,
   "metadata": {
    "scrolled": true
   },
   "outputs": [
    {
     "name": "stdout",
     "output_type": "stream",
     "text": [
      "item: (64864,) ; 0.857\n",
      "item: (262228,) ; 0.857\n",
      "item: (257990,) ; 0.571\n",
      "item: (64857,) ; 0.857\n",
      "item: (64864, 64857) ; 0.714\n",
      "item: (64864, 262228) ; 0.714\n",
      "item: (64857, 262228) ; 0.714\n",
      "item: (262228, 257990) ; 0.571\n",
      "item: (64864, 64857, 262228) ; 0.571\n",
      "\n",
      "------------------------ RULES:\n",
      "Rule: (64864,) ==> (64857,) ; 0.833\n",
      "Rule: (64857,) ==> (64864,) ; 0.833\n",
      "Rule: (64864,) ==> (262228,) ; 0.833\n",
      "Rule: (262228,) ==> (64864,) ; 0.833\n",
      "Rule: (64857,) ==> (262228,) ; 0.833\n",
      "Rule: (262228,) ==> (64857,) ; 0.833\n",
      "Rule: (262228,) ==> (257990,) ; 0.667\n",
      "Rule: (257990,) ==> (262228,) ; 1.000\n",
      "Rule: (64864,) ==> (64857, 262228) ; 0.667\n",
      "Rule: (64857,) ==> (64864, 262228) ; 0.667\n",
      "Rule: (262228,) ==> (64864, 64857) ; 0.667\n",
      "Rule: (64864, 64857) ==> (262228,) ; 0.800\n",
      "Rule: (64864, 262228) ==> (64857,) ; 0.800\n",
      "Rule: (64857, 262228) ==> (64864,) ; 0.800\n"
     ]
    }
   ],
   "source": [
    "printResults(items,rules)"
   ]
  },
  {
   "cell_type": "code",
   "execution_count": 7,
   "metadata": {
    "scrolled": true
   },
   "outputs": [
    {
     "data": {
      "text/plain": [
       "[(((64864,), (64857,)), 0.8333333333333334),\n",
       " (((64857,), (64864,)), 0.8333333333333334),\n",
       " (((64864,), (262228,)), 0.8333333333333334),\n",
       " (((262228,), (64864,)), 0.8333333333333334),\n",
       " (((64857,), (262228,)), 0.8333333333333334),\n",
       " (((262228,), (64857,)), 0.8333333333333334),\n",
       " (((262228,), (257990,)), 0.6666666666666666),\n",
       " (((257990,), (262228,)), 1.0),\n",
       " (((64864,), (64857, 262228)), 0.6666666666666666),\n",
       " (((64857,), (64864, 262228)), 0.6666666666666666),\n",
       " (((262228,), (64864, 64857)), 0.6666666666666666),\n",
       " (((64864, 64857), (262228,)), 0.7999999999999999),\n",
       " (((64864, 262228), (64857,)), 0.7999999999999999),\n",
       " (((64857, 262228), (64864,)), 0.7999999999999999)]"
      ]
     },
     "execution_count": 7,
     "metadata": {},
     "output_type": "execute_result"
    }
   ],
   "source": [
    "# Rule form : Antecedent -> Consequent : Confidence\n",
    "# Ex: 89165 -> 380975 : 0.749\n",
    "\n",
    "# rules[i][0][0] i-th rule's Antecendent(s)\n",
    "# rules[i][0][1] i-th rule's Consequent(s)\n",
    "# rules[i][1] i-th rule's Confidence\n",
    "\n",
    "rules"
   ]
  },
  {
   "cell_type": "code",
   "execution_count": 19,
   "metadata": {
    "scrolled": true
   },
   "outputs": [
    {
     "name": "stdout",
     "output_type": "stream",
     "text": [
      "13\n"
     ]
    }
   ],
   "source": [
    "Rules_data = []\n",
    "for i in range(0,len(rules)):\n",
    "    Rules_data.append(Rules(RID = i+1, Antecendents = str(rules[i][0][0]).strip('(),'), \n",
    "                            Consequents = str(rules[i][0][1]).strip('(),'),\n",
    "                            Confidence = rules[i][1]))\n",
    "print (i)"
   ]
  },
  {
   "cell_type": "code",
   "execution_count": 20,
   "metadata": {},
   "outputs": [],
   "source": [
    "db.session.add_all(Rules_data)\n",
    "db.session.commit()\n",
    "db.session.close()"
   ]
  }
 ],
 "metadata": {
  "kernelspec": {
   "display_name": "Python 3",
   "language": "python",
   "name": "python3"
  },
  "language_info": {
   "codemirror_mode": {
    "name": "ipython",
    "version": 3
   },
   "file_extension": ".py",
   "mimetype": "text/x-python",
   "name": "python",
   "nbconvert_exporter": "python",
   "pygments_lexer": "ipython3",
   "version": "3.6.7"
  }
 },
 "nbformat": 4,
 "nbformat_minor": 2
}
